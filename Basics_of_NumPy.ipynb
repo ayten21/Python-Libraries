{
  "cells": [
    {
      "cell_type": "markdown",
      "metadata": {
        "id": "view-in-github",
        "colab_type": "text"
      },
      "source": [
        "<a href=\"https://colab.research.google.com/github/ayten21/python-libraries/blob/main/Basics_of_NumPy.ipynb\" target=\"_parent\"><img src=\"https://colab.research.google.com/assets/colab-badge.svg\" alt=\"Open In Colab\"/></a>"
      ]
    },
    {
      "cell_type": "markdown",
      "metadata": {
        "id": "xPcOd9Hvfdyz"
      },
      "source": [
        "---\n",
        "---\n",
        "\n",
        "<center><h1> Basics of NumPy </h1></center>\n",
        "\n",
        "\n",
        "NumPy is the fundamental package for scientific computing with Python. \n",
        "\n",
        "***Source:*** https://numpy.org/\n",
        "\n",
        "---"
      ]
    },
    {
      "cell_type": "code",
      "execution_count": 1,
      "metadata": {
        "id": "hWCXoOU7xdHR"
      },
      "outputs": [],
      "source": [
        "# importing the numpy library\n",
        "import numpy as np"
      ]
    },
    {
      "cell_type": "markdown",
      "metadata": {
        "id": "Ynoz--m7xdHX"
      },
      "source": [
        "***If you got an error while running the above cell, import it by using the following command***\n",
        "\n",
        "\n",
        "***`!pip3 install numpy`***\n",
        "\n",
        "---"
      ]
    },
    {
      "cell_type": "code",
      "execution_count": 2,
      "metadata": {
        "id": "kJQUFjqcfG5E",
        "colab": {
          "base_uri": "https://localhost:8080/",
          "height": 35
        },
        "outputId": "8ac689ae-a141-498f-9e69-fc84aba47abb"
      },
      "outputs": [
        {
          "output_type": "execute_result",
          "data": {
            "text/plain": [
              "'1.21.6'"
            ],
            "application/vnd.google.colaboratory.intrinsic+json": {
              "type": "string"
            }
          },
          "metadata": {},
          "execution_count": 2
        }
      ],
      "source": [
        "# check verison of the numpy library\n",
        "np.__version__"
      ]
    },
    {
      "cell_type": "code",
      "execution_count": 3,
      "metadata": {
        "id": "hCA-nkm9ggyq",
        "colab": {
          "base_uri": "https://localhost:8080/"
        },
        "outputId": "1a84ca2b-1cdf-451d-e528-2ee59fde1e3b"
      },
      "outputs": [
        {
          "output_type": "execute_result",
          "data": {
            "text/plain": [
              "array([1, 4, 2, 5, 3])"
            ]
          },
          "metadata": {},
          "execution_count": 3
        }
      ],
      "source": [
        "# create a numpy array\n",
        "np.array([1, 4, 2, 5, 3])\n"
      ]
    },
    {
      "cell_type": "code",
      "execution_count": 4,
      "metadata": {
        "id": "8JkhmDL3xdHc",
        "colab": {
          "base_uri": "https://localhost:8080/"
        },
        "outputId": "344e2eb8-07bc-43c4-a9a4-de83635b83bc"
      },
      "outputs": [
        {
          "output_type": "execute_result",
          "data": {
            "text/plain": [
              "[1, 4, '2', 5, False]"
            ]
          },
          "metadata": {},
          "execution_count": 4
        }
      ],
      "source": [
        "[1,4,'2',5,False]"
      ]
    },
    {
      "cell_type": "markdown",
      "metadata": {
        "id": "LMhfPjpmxdHd"
      },
      "source": [
        "***Difference between numpy array and list***\n",
        "\n",
        "- Data type should be same of all the elements in a numpy array whereas it can be different in case of lists.\n",
        "- **Broadcasting:** https://docs.scipy.org/doc/numpy/user/basics.broadcasting.html\n",
        "\n",
        "---"
      ]
    },
    {
      "cell_type": "code",
      "execution_count": 5,
      "metadata": {
        "id": "o93nBNLKxdHg",
        "colab": {
          "base_uri": "https://localhost:8080/"
        },
        "outputId": "a12135eb-fea1-4f34-8674-ad67f5e6d82e"
      },
      "outputs": [
        {
          "output_type": "execute_result",
          "data": {
            "text/plain": [
              "array(['1', '4', '2', '5', '3', 'False'], dtype='<U21')"
            ]
          },
          "metadata": {},
          "execution_count": 5
        }
      ],
      "source": [
        "# if we add an element of string data type in a numpy array\n",
        "# then it will upcast the data type to string of all the elements.\n",
        "np.array([1, 4, 2, '5', 3, False])"
      ]
    },
    {
      "cell_type": "markdown",
      "metadata": {
        "id": "jbZxGkjvxdHj"
      },
      "source": [
        "***Now, we will create one sample list and numpy array and apply a very basic function of multiplication by 2. We will see that in case of list the elements are duplicated and appended to the list whereas in case of numpy array we got an array where all elements are multiplied by 2.***\n",
        "\n",
        "----"
      ]
    },
    {
      "cell_type": "code",
      "execution_count": 6,
      "metadata": {
        "id": "bQxLEk8uxdHm"
      },
      "outputs": [],
      "source": [
        "# create a sample list\n",
        "sample_list = [1, 2, 3, 4, 5, 6]"
      ]
    },
    {
      "cell_type": "code",
      "execution_count": 7,
      "metadata": {
        "id": "1jRxdl6TxdHn",
        "colab": {
          "base_uri": "https://localhost:8080/"
        },
        "outputId": "b2d88da9-7ae7-480e-90cd-bfe696c8fd35"
      },
      "outputs": [
        {
          "output_type": "execute_result",
          "data": {
            "text/plain": [
              "[1, 2, 3, 4, 5, 6, 1, 2, 3, 4, 5, 6]"
            ]
          },
          "metadata": {},
          "execution_count": 7
        }
      ],
      "source": [
        "sample_list*2 "
      ]
    },
    {
      "cell_type": "code",
      "execution_count": 8,
      "metadata": {
        "id": "GTFk3mIlxdHp"
      },
      "outputs": [],
      "source": [
        "# create a sample numpy array\n",
        "sample_numpy_array = np.array([1, 2, 3, 4, 5, 6])"
      ]
    },
    {
      "cell_type": "code",
      "execution_count": 9,
      "metadata": {
        "id": "ZTQaH4R7xdHq",
        "colab": {
          "base_uri": "https://localhost:8080/"
        },
        "outputId": "7ffeb665-d9de-4720-dec3-d9b78a969b05"
      },
      "outputs": [
        {
          "output_type": "execute_result",
          "data": {
            "text/plain": [
              "array([3, 4, 5, 6, 7, 8])"
            ]
          },
          "metadata": {},
          "execution_count": 9
        }
      ],
      "source": [
        "sample_numpy_array+2"
      ]
    },
    {
      "cell_type": "markdown",
      "metadata": {
        "id": "7niOvqmPxdHw"
      },
      "source": [
        "---\n",
        "\n",
        "***Create a matrix using numpy***\n",
        "\n",
        "---"
      ]
    },
    {
      "cell_type": "code",
      "execution_count": 10,
      "metadata": {
        "id": "294fc__xxdHx"
      },
      "outputs": [],
      "source": [
        "a = [[1,2,3],\n",
        "    [4,5,6],\n",
        "    [7,8,9]]"
      ]
    },
    {
      "cell_type": "code",
      "execution_count": 11,
      "metadata": {
        "id": "780qVu8ExdH0",
        "colab": {
          "base_uri": "https://localhost:8080/"
        },
        "outputId": "c6a1eb58-23f1-49d4-88f3-6d331d178004"
      },
      "outputs": [
        {
          "output_type": "execute_result",
          "data": {
            "text/plain": [
              "[[1, 2, 3], [4, 5, 6], [7, 8, 9]]"
            ]
          },
          "metadata": {},
          "execution_count": 11
        }
      ],
      "source": [
        "a"
      ]
    },
    {
      "cell_type": "code",
      "execution_count": 12,
      "metadata": {
        "id": "TuIRhVnIinJS"
      },
      "outputs": [],
      "source": [
        "# MATRIX\n",
        "a = np.array(a)"
      ]
    },
    {
      "cell_type": "code",
      "execution_count": 13,
      "metadata": {
        "id": "XITexyQkxdH2",
        "colab": {
          "base_uri": "https://localhost:8080/"
        },
        "outputId": "4a5e83de-37a6-46a7-dc3f-2dd9ba0cc71a"
      },
      "outputs": [
        {
          "output_type": "execute_result",
          "data": {
            "text/plain": [
              "array([[1, 2, 3],\n",
              "       [4, 5, 6],\n",
              "       [7, 8, 9]])"
            ]
          },
          "metadata": {},
          "execution_count": 13
        }
      ],
      "source": [
        "a"
      ]
    },
    {
      "cell_type": "code",
      "execution_count": 14,
      "metadata": {
        "id": "SN5kvZXPxdH4",
        "colab": {
          "base_uri": "https://localhost:8080/"
        },
        "outputId": "10ad78e6-9518-4ec5-9f0e-1bb7d73eecd7"
      },
      "outputs": [
        {
          "output_type": "execute_result",
          "data": {
            "text/plain": [
              "2"
            ]
          },
          "metadata": {},
          "execution_count": 14
        }
      ],
      "source": [
        "a[0][1]"
      ]
    },
    {
      "cell_type": "code",
      "execution_count": 15,
      "metadata": {
        "id": "60qjY6TCxdH5",
        "colab": {
          "base_uri": "https://localhost:8080/"
        },
        "outputId": "e81840ee-fe15-4fca-c322-32e66dfb66ed"
      },
      "outputs": [
        {
          "output_type": "execute_result",
          "data": {
            "text/plain": [
              "array([[1, 2, 3],\n",
              "       [4, 5, 6],\n",
              "       [7, 8, 9]])"
            ]
          },
          "metadata": {},
          "execution_count": 15
        }
      ],
      "source": [
        "b = np.array([[1,2,3],\n",
        "             [4,5,6],\n",
        "             [7,8,9]])\n",
        "b"
      ]
    },
    {
      "cell_type": "code",
      "execution_count": 16,
      "metadata": {
        "id": "3-oLfXOvo8wG",
        "colab": {
          "base_uri": "https://localhost:8080/"
        },
        "outputId": "4c32ddf9-b498-4c7d-fe41-87fcb759c1b4"
      },
      "outputs": [
        {
          "output_type": "execute_result",
          "data": {
            "text/plain": [
              "array([[5, 1, 9],\n",
              "       [4, 2, 2],\n",
              "       [5, 1, 5]])"
            ]
          },
          "metadata": {},
          "execution_count": 16
        }
      ],
      "source": [
        "# Create a 3x3 array of random integers in the interval [0, 10)\n",
        "np.random.randint(0, 10, (3, 3))"
      ]
    },
    {
      "cell_type": "code",
      "execution_count": 17,
      "metadata": {
        "id": "ojnyWZ3cxdH7",
        "colab": {
          "base_uri": "https://localhost:8080/"
        },
        "outputId": "694a806e-aa00-4b21-de02-b851d6904b3f"
      },
      "outputs": [
        {
          "output_type": "execute_result",
          "data": {
            "text/plain": [
              "array([[9, 4, 9],\n",
              "       [6, 1, 8],\n",
              "       [5, 7, 6]])"
            ]
          },
          "metadata": {},
          "execution_count": 17
        }
      ],
      "source": [
        "# create another matrix\n",
        "np.random.randint(0, 10, (3, 3))"
      ]
    },
    {
      "cell_type": "markdown",
      "metadata": {
        "id": "-mOeLPZmxdH9"
      },
      "source": [
        "***We got a different matrix when we generated another random matrix: We can get the same matrix again by fixing the seed. Let's see how?***\n",
        "\n",
        "\n",
        "---"
      ]
    },
    {
      "cell_type": "code",
      "execution_count": 18,
      "metadata": {
        "id": "moqj8-zbxdH-",
        "colab": {
          "base_uri": "https://localhost:8080/"
        },
        "outputId": "52001b64-cd7c-4478-f796-cff6186e05f4"
      },
      "outputs": [
        {
          "output_type": "execute_result",
          "data": {
            "text/plain": [
              "array([[5, 0, 3],\n",
              "       [3, 7, 9],\n",
              "       [3, 5, 2]])"
            ]
          },
          "metadata": {},
          "execution_count": 18
        }
      ],
      "source": [
        "# fixing the random seed\n",
        "np.random.seed(0)\n",
        "np.random.randint(0, 10, (3, 3))"
      ]
    },
    {
      "cell_type": "code",
      "execution_count": 19,
      "metadata": {
        "id": "Iazeu9R0xdH_",
        "colab": {
          "base_uri": "https://localhost:8080/"
        },
        "outputId": "63310742-659f-4470-c6aa-c7727350195f"
      },
      "outputs": [
        {
          "output_type": "execute_result",
          "data": {
            "text/plain": [
              "array([[5, 0, 3],\n",
              "       [3, 7, 9],\n",
              "       [3, 5, 2]])"
            ]
          },
          "metadata": {},
          "execution_count": 19
        }
      ],
      "source": [
        "# fixing the random seed\n",
        "np.random.seed(0)\n",
        "np.random.randint(0, 10, (3, 3))"
      ]
    },
    {
      "cell_type": "markdown",
      "metadata": {
        "id": "4LckuuPTxdIA"
      },
      "source": [
        "***Create a matrix of `Zeros` of specific dimension.***\n",
        "\n",
        "\n",
        "---"
      ]
    },
    {
      "cell_type": "code",
      "execution_count": 20,
      "metadata": {
        "id": "VFkoRllhxdIA",
        "colab": {
          "base_uri": "https://localhost:8080/"
        },
        "outputId": "823e26d3-6550-4a98-b9ed-756087095c5e"
      },
      "outputs": [
        {
          "output_type": "execute_result",
          "data": {
            "text/plain": [
              "array([[0, 0, 0, 0],\n",
              "       [0, 0, 0, 0],\n",
              "       [0, 0, 0, 0]])"
            ]
          },
          "metadata": {},
          "execution_count": 20
        }
      ],
      "source": [
        "# Create a 2 X 10 integer array filled with zeros\n",
        "np.zeros((3,4), dtype=int)"
      ]
    },
    {
      "cell_type": "code",
      "execution_count": 21,
      "metadata": {
        "id": "xhdplhcCxdIB",
        "colab": {
          "base_uri": "https://localhost:8080/"
        },
        "outputId": "6b62092d-5ad8-4b80-bf64-0f7e75355847"
      },
      "outputs": [
        {
          "output_type": "execute_result",
          "data": {
            "text/plain": [
              "array([[0, 0, 0, 0, 0],\n",
              "       [0, 0, 0, 0, 0],\n",
              "       [0, 0, 0, 0, 0],\n",
              "       [0, 0, 0, 0, 0]])"
            ]
          },
          "metadata": {},
          "execution_count": 21
        }
      ],
      "source": [
        "# Create a 4 X 5 integer array filled with zeros\n",
        "np.zeros((4,5), dtype=int)"
      ]
    },
    {
      "cell_type": "markdown",
      "metadata": {
        "id": "qidXQZSvxdIC"
      },
      "source": [
        "***Create a matrix of `Ones` of specific dimension.***\n",
        "\n",
        "---"
      ]
    },
    {
      "cell_type": "code",
      "execution_count": 22,
      "metadata": {
        "id": "i3QHCCWnxdIF",
        "colab": {
          "base_uri": "https://localhost:8080/"
        },
        "outputId": "799d8b1f-4bc2-4050-cc0c-119da387d7af"
      },
      "outputs": [
        {
          "output_type": "execute_result",
          "data": {
            "text/plain": [
              "array([[1, 1, 1, 1, 1, 1, 1, 1, 1, 1],\n",
              "       [1, 1, 1, 1, 1, 1, 1, 1, 1, 1]])"
            ]
          },
          "metadata": {},
          "execution_count": 22
        }
      ],
      "source": [
        "# Create a 2 X 10 integer array filled with ones\n",
        "np.ones((2,10), dtype=int)"
      ]
    },
    {
      "cell_type": "code",
      "execution_count": 23,
      "metadata": {
        "id": "l4uJIMbWxdIG",
        "colab": {
          "base_uri": "https://localhost:8080/"
        },
        "outputId": "17967406-8193-4297-8e50-50d6c70b4e94"
      },
      "outputs": [
        {
          "output_type": "execute_result",
          "data": {
            "text/plain": [
              "array([[1, 1, 1, 1, 1],\n",
              "       [1, 1, 1, 1, 1],\n",
              "       [1, 1, 1, 1, 1],\n",
              "       [1, 1, 1, 1, 1]])"
            ]
          },
          "metadata": {},
          "execution_count": 23
        }
      ],
      "source": [
        "# Create a 4 X 5 integer array filled with ones\n",
        "np.ones((4,5), dtype=int)"
      ]
    },
    {
      "cell_type": "code",
      "execution_count": 24,
      "metadata": {
        "id": "uMDahqYtxdIG",
        "colab": {
          "base_uri": "https://localhost:8080/"
        },
        "outputId": "9db75d4f-826f-4932-8b69-7d3595eb6656"
      },
      "outputs": [
        {
          "output_type": "execute_result",
          "data": {
            "text/plain": [
              "array([[1, 0, 0, 0, 0],\n",
              "       [0, 1, 0, 0, 0],\n",
              "       [0, 0, 1, 0, 0],\n",
              "       [0, 0, 0, 1, 0],\n",
              "       [0, 0, 0, 0, 1]])"
            ]
          },
          "metadata": {},
          "execution_count": 24
        }
      ],
      "source": [
        "np.identity(5, dtype=int)"
      ]
    },
    {
      "cell_type": "markdown",
      "metadata": {
        "id": "deC6wRaAxdIH"
      },
      "source": [
        "***Create a matrix of filled with any specific number of specific dimension.***\n",
        "\n",
        "---"
      ]
    },
    {
      "cell_type": "code",
      "execution_count": 25,
      "metadata": {
        "id": "igeUgmOCxdII",
        "colab": {
          "base_uri": "https://localhost:8080/"
        },
        "outputId": "14516231-adab-424a-e3bc-0e83864f3579"
      },
      "outputs": [
        {
          "output_type": "execute_result",
          "data": {
            "text/plain": [
              "array([[3.14, 3.14, 3.14, 3.14, 3.14],\n",
              "       [3.14, 3.14, 3.14, 3.14, 3.14],\n",
              "       [3.14, 3.14, 3.14, 3.14, 3.14]])"
            ]
          },
          "metadata": {},
          "execution_count": 25
        }
      ],
      "source": [
        "# Create a 3x5 array filled with 3.14\n",
        "np.full((3, 5), 3.14)"
      ]
    },
    {
      "cell_type": "code",
      "execution_count": 26,
      "metadata": {
        "id": "Bc63RNoqxdIJ",
        "colab": {
          "base_uri": "https://localhost:8080/"
        },
        "outputId": "c757a80b-33f4-4e22-a9b6-c352addbdb8c"
      },
      "outputs": [
        {
          "output_type": "execute_result",
          "data": {
            "text/plain": [
              "array([[7, 7, 7, 7],\n",
              "       [7, 7, 7, 7]])"
            ]
          },
          "metadata": {},
          "execution_count": 26
        }
      ],
      "source": [
        "# Create a 2x4 array filled with 7\n",
        "np.full((2, 4), 7)"
      ]
    },
    {
      "cell_type": "markdown",
      "metadata": {
        "id": "-mZ_tS1OMlCE"
      },
      "source": [
        "\n",
        "\n",
        "---\n",
        "***Array Concatenation :***\n",
        "\n",
        "\n",
        "---\n",
        "\n"
      ]
    },
    {
      "cell_type": "code",
      "execution_count": 27,
      "metadata": {
        "id": "J0UX6q7uNF49",
        "colab": {
          "base_uri": "https://localhost:8080/"
        },
        "outputId": "11d7b6ef-a0d7-4965-e6d6-ed43f994bdc4"
      },
      "outputs": [
        {
          "output_type": "stream",
          "name": "stdout",
          "text": [
            "matrix 1\n"
          ]
        },
        {
          "output_type": "execute_result",
          "data": {
            "text/plain": [
              "array([[1, 2, 3],\n",
              "       [4, 5, 6]])"
            ]
          },
          "metadata": {},
          "execution_count": 27
        }
      ],
      "source": [
        "# concatenating 2-D arrays\n",
        "matrix1 = np.array([[1, 2, 3], \n",
        "                    [4, 5, 6]])\n",
        "print(\"matrix 1\")\n",
        "matrix1"
      ]
    },
    {
      "cell_type": "code",
      "execution_count": 28,
      "metadata": {
        "id": "mJ1Bpd24xdIN",
        "colab": {
          "base_uri": "https://localhost:8080/"
        },
        "outputId": "c1963509-09c5-4b95-f7ff-23ad80dbb20b"
      },
      "outputs": [
        {
          "output_type": "stream",
          "name": "stdout",
          "text": [
            "matrix 2\n"
          ]
        },
        {
          "output_type": "execute_result",
          "data": {
            "text/plain": [
              "array([[ 7,  8,  9],\n",
              "       [10, 11, 12]])"
            ]
          },
          "metadata": {},
          "execution_count": 28
        }
      ],
      "source": [
        "matrix2 = np.array([[7, 8, 9], \n",
        "                    [10, 11, 12]])\n",
        "print(\"matrix 2\",)\n",
        "matrix2"
      ]
    },
    {
      "cell_type": "markdown",
      "metadata": {
        "id": "6QY2YlU6xdIO"
      },
      "source": [
        "***Concatenate Row wise***\n",
        "\n",
        "---"
      ]
    },
    {
      "cell_type": "code",
      "execution_count": 29,
      "metadata": {
        "id": "bUIV3mkMxdIP",
        "colab": {
          "base_uri": "https://localhost:8080/"
        },
        "outputId": "c8a0516a-ff41-436e-f7d7-da3a9409b0d7"
      },
      "outputs": [
        {
          "output_type": "stream",
          "name": "stdout",
          "text": [
            "Combined on Row (axis=0)\n"
          ]
        },
        {
          "output_type": "execute_result",
          "data": {
            "text/plain": [
              "array([[ 1,  2,  3],\n",
              "       [ 4,  5,  6],\n",
              "       [ 7,  8,  9],\n",
              "       [10, 11, 12]])"
            ]
          },
          "metadata": {},
          "execution_count": 29
        }
      ],
      "source": [
        "# concatenate along the first axis\n",
        "matrix_1_2_combineRowwise = np.concatenate([matrix1, matrix2],axis=0)\n",
        "print(\"Combined on Row (axis=0)\")\n",
        "matrix_1_2_combineRowwise"
      ]
    },
    {
      "cell_type": "markdown",
      "metadata": {
        "id": "mV_koZn1xdIP"
      },
      "source": [
        "***Concatenate Column wise***\n",
        "\n",
        "\n",
        "---"
      ]
    },
    {
      "cell_type": "code",
      "execution_count": 30,
      "metadata": {
        "id": "Hdinvo4GxdIQ",
        "colab": {
          "base_uri": "https://localhost:8080/"
        },
        "outputId": "1fb20db7-7a4d-4459-bf14-740424734edc"
      },
      "outputs": [
        {
          "output_type": "stream",
          "name": "stdout",
          "text": [
            "Combined on Col (axis=1)\n"
          ]
        },
        {
          "output_type": "execute_result",
          "data": {
            "text/plain": [
              "array([[ 1,  2,  3,  7,  8,  9],\n",
              "       [ 4,  5,  6, 10, 11, 12]])"
            ]
          },
          "metadata": {},
          "execution_count": 30
        }
      ],
      "source": [
        "# concatenate along the second axis (zero-indexed)\n",
        "matrix_1_2_combineColwise = np.concatenate([matrix1, matrix2], axis=1)\n",
        "print(\"Combined on Col (axis=1)\")\n",
        "matrix_1_2_combineColwise"
      ]
    },
    {
      "cell_type": "markdown",
      "metadata": {
        "id": "5Y9avJtSxdIR"
      },
      "source": [
        "***Learn more about the numpy here: https://numpy.org/doc/1.17/user/index.html***\n",
        "\n",
        "---"
      ]
    }
  ],
  "metadata": {
    "colab": {
      "name": "Basics_of_NumPy.ipynb",
      "provenance": [],
      "collapsed_sections": [],
      "include_colab_link": true
    },
    "kernelspec": {
      "display_name": "Python 3",
      "language": "python",
      "name": "python3"
    },
    "language_info": {
      "codemirror_mode": {
        "name": "ipython",
        "version": 3
      },
      "file_extension": ".py",
      "mimetype": "text/x-python",
      "name": "python",
      "nbconvert_exporter": "python",
      "pygments_lexer": "ipython3",
      "version": "3.7.4"
    }
  },
  "nbformat": 4,
  "nbformat_minor": 0
}