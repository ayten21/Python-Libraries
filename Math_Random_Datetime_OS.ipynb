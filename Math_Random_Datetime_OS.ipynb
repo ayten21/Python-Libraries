{
  "cells": [
    {
      "cell_type": "markdown",
      "metadata": {
        "id": "view-in-github",
        "colab_type": "text"
      },
      "source": [
        "<a href=\"https://colab.research.google.com/github/ayten21/python-libraries/blob/main/Math_Random_Datetime_OS.ipynb\" target=\"_parent\"><img src=\"https://colab.research.google.com/assets/colab-badge.svg\" alt=\"Open In Colab\"/></a>"
      ]
    },
    {
      "cell_type": "markdown",
      "metadata": {
        "id": "BEF-OJvKDbYk"
      },
      "source": [
        "---\n",
        "---\n",
        "\n",
        "<center><h1>Standard Libraries in Python</h1></center>\n",
        "\n",
        "---"
      ]
    },
    {
      "cell_type": "markdown",
      "metadata": {
        "id": "350NVOGVDbYu"
      },
      "source": [
        "\n",
        "\n",
        "**`MATH`**\n",
        "\n",
        "---"
      ]
    },
    {
      "cell_type": "code",
      "execution_count": 1,
      "metadata": {
        "id": "Wi0ro-N2DbYv"
      },
      "outputs": [],
      "source": [
        "import math"
      ]
    },
    {
      "cell_type": "code",
      "execution_count": 2,
      "metadata": {
        "colab": {
          "base_uri": "https://localhost:8080/"
        },
        "id": "xTR90UtzDbYx",
        "outputId": "ed23d011-38f2-47b2-9131-915dd449fb1d"
      },
      "outputs": [
        {
          "output_type": "execute_result",
          "data": {
            "text/plain": [
              "21"
            ]
          },
          "metadata": {},
          "execution_count": 2
        }
      ],
      "source": [
        "# the smallest integer greater than or equal to x.\n",
        "math.ceil(20.222)"
      ]
    },
    {
      "cell_type": "code",
      "execution_count": 3,
      "metadata": {
        "colab": {
          "base_uri": "https://localhost:8080/"
        },
        "id": "Zb_4v6aIDbYz",
        "outputId": "49020c00-c298-4fb8-fa59-328d93068c12"
      },
      "outputs": [
        {
          "output_type": "execute_result",
          "data": {
            "text/plain": [
              "20"
            ]
          },
          "metadata": {},
          "execution_count": 3
        }
      ],
      "source": [
        "# the largest integer less than or equal to x\n",
        "math.floor(20.222)"
      ]
    },
    {
      "cell_type": "code",
      "execution_count": 4,
      "metadata": {
        "colab": {
          "base_uri": "https://localhost:8080/"
        },
        "id": "XFhVZusnDbY1",
        "outputId": "d985506c-2f08-4daa-dee1-4fe5fa671352"
      },
      "outputs": [
        {
          "output_type": "execute_result",
          "data": {
            "text/plain": [
              "3628800"
            ]
          },
          "metadata": {},
          "execution_count": 4
        }
      ],
      "source": [
        "# factorial of a number\n",
        "math.factorial(10)"
      ]
    },
    {
      "cell_type": "code",
      "execution_count": 5,
      "metadata": {
        "colab": {
          "base_uri": "https://localhost:8080/"
        },
        "id": "rOclrr6kDbY2",
        "outputId": "21013fb5-fcc4-45f6-d1c6-0ff378770a63"
      },
      "outputs": [
        {
          "output_type": "execute_result",
          "data": {
            "text/plain": [
              "5"
            ]
          },
          "metadata": {},
          "execution_count": 5
        }
      ],
      "source": [
        "# greatest common divisor of the integers a and b.\n",
        "math.gcd(20,25)"
      ]
    },
    {
      "cell_type": "markdown",
      "metadata": {
        "id": "I-e8kkn7DbY3"
      },
      "source": [
        "***Learn more about the functions in math library here: https://docs.python.org/3/library/math.html***\n",
        "\n",
        "---\n",
        "\n",
        "**`RANDOM`**\n",
        "\n",
        "---"
      ]
    },
    {
      "cell_type": "code",
      "execution_count": 6,
      "metadata": {
        "id": "uUpYxm9KDbY5"
      },
      "outputs": [],
      "source": [
        "import random"
      ]
    },
    {
      "cell_type": "code",
      "execution_count": 7,
      "metadata": {
        "colab": {
          "base_uri": "https://localhost:8080/",
          "height": 35
        },
        "id": "dpZ57Q6NDbY6",
        "outputId": "88fa0808-7d62-4a00-ccd1-8434e5f3d257"
      },
      "outputs": [
        {
          "output_type": "execute_result",
          "data": {
            "text/plain": [
              "'pear'"
            ],
            "application/vnd.google.colaboratory.intrinsic+json": {
              "type": "string"
            }
          },
          "metadata": {},
          "execution_count": 7
        }
      ],
      "source": [
        "# select a random element from a list\n",
        "random.choice(['apple', 'pear', 'banana'])"
      ]
    },
    {
      "cell_type": "code",
      "execution_count": 8,
      "metadata": {
        "colab": {
          "base_uri": "https://localhost:8080/"
        },
        "id": "Ju0PHEH3DbY8",
        "outputId": "66f1934e-0b53-455b-d85d-a05198cf49c4"
      },
      "outputs": [
        {
          "output_type": "execute_result",
          "data": {
            "text/plain": [
              "[26, 47, 43, 30, 46, 40, 42, 14, 29, 49]"
            ]
          },
          "metadata": {},
          "execution_count": 8
        }
      ],
      "source": [
        "# select 10 different numbers within a range of numbers\n",
        "\n",
        "random.sample(range(10,50), 10)"
      ]
    },
    {
      "cell_type": "code",
      "execution_count": 9,
      "metadata": {
        "colab": {
          "base_uri": "https://localhost:8080/"
        },
        "id": "7rwztpK6DbY-",
        "outputId": "3b08d388-6beb-4b4e-d616-01ba10bb7969"
      },
      "outputs": [
        {
          "output_type": "execute_result",
          "data": {
            "text/plain": [
              "0.13833013605560784"
            ]
          },
          "metadata": {},
          "execution_count": 9
        }
      ],
      "source": [
        "# select a random float number\n",
        "random.random()  "
      ]
    },
    {
      "cell_type": "code",
      "execution_count": 10,
      "metadata": {
        "colab": {
          "base_uri": "https://localhost:8080/"
        },
        "id": "cQaZaWeLDbZD",
        "outputId": "858aed54-7f0c-46e0-8eda-fbc973902d8e"
      },
      "outputs": [
        {
          "output_type": "execute_result",
          "data": {
            "text/plain": [
              "0.23883547362401747"
            ]
          },
          "metadata": {},
          "execution_count": 10
        }
      ],
      "source": [
        "# select a random float number within a range.\n",
        "random.uniform(0,2)"
      ]
    },
    {
      "cell_type": "code",
      "execution_count": 11,
      "metadata": {
        "colab": {
          "base_uri": "https://localhost:8080/"
        },
        "id": "iEv2tVJVDbZF",
        "outputId": "4ba42f14-ab7e-4d9f-f20e-ce0db5468e24"
      },
      "outputs": [
        {
          "output_type": "execute_result",
          "data": {
            "text/plain": [
              "4"
            ]
          },
          "metadata": {},
          "execution_count": 11
        }
      ],
      "source": [
        "# random integer chosen from range(6)\n",
        "random.randrange(3,6)"
      ]
    },
    {
      "cell_type": "code",
      "execution_count": 12,
      "metadata": {
        "colab": {
          "base_uri": "https://localhost:8080/"
        },
        "id": "33S3-kRlDbZK",
        "outputId": "13d6d238-f081-4ff1-d6c7-569bce8a4a6e"
      },
      "outputs": [
        {
          "output_type": "execute_result",
          "data": {
            "text/plain": [
              "4"
            ]
          },
          "metadata": {},
          "execution_count": 12
        }
      ],
      "source": [
        "random.randint(1,10)"
      ]
    },
    {
      "cell_type": "markdown",
      "metadata": {
        "id": "COETYPmaDbZK"
      },
      "source": [
        "#### `DATE TIME`\n",
        "\n",
        "---\n",
        "\n",
        "\n",
        "\n",
        "| **Directive** | **Meaning**                                            |\n",
        "| ---           | ---                                                    |\n",
        "|  **%a**       | Weekday as locale’s abbreviated name.                  |\n",
        "|  **%A**       | Weekday as locale’s full name.                         |  \n",
        "|  **%d**       | Day of the month as a zero-padded decimal number.      |\n",
        "|  **%b**       | Month as locale’s abbreviated name.\t                 |\n",
        "|  **%B**       | Month as locale’s full name.\t                         |\n",
        "|  **%m**       | Month as a zero-padded decimal number.                 |\n",
        "|  **%y**       | Year without century as a zero-padded decimal number.  |\n",
        "|  **%Y**       | Year with century as a decimal number.                 |\n",
        "|  **%H**       | Hour (24-hour clock) as a zero-padded decimal number.  |\n",
        "\n",
        "\n",
        "\n",
        "---\n",
        "\n",
        "***You can read more about the other directives and datetime library here: https://docs.python.org/3/library/datetime.html***"
      ]
    },
    {
      "cell_type": "code",
      "execution_count": 13,
      "metadata": {
        "id": "X5ERP3OQDbZN"
      },
      "outputs": [],
      "source": [
        "# dates are easily constructed and formatted\n",
        "from datetime import date"
      ]
    },
    {
      "cell_type": "code",
      "execution_count": 14,
      "metadata": {
        "colab": {
          "base_uri": "https://localhost:8080/"
        },
        "id": "HpHVF_ZCDbZO",
        "outputId": "a0479eae-2dde-44a6-91cd-706d405e9333"
      },
      "outputs": [
        {
          "output_type": "stream",
          "name": "stdout",
          "text": [
            "Date:  2022-04-20\n"
          ]
        }
      ],
      "source": [
        "# get the current date\n",
        "TODAY = date.today()\n",
        "print(\"Date: \", TODAY)"
      ]
    },
    {
      "cell_type": "code",
      "execution_count": 15,
      "metadata": {
        "colab": {
          "base_uri": "https://localhost:8080/"
        },
        "id": "5lampkuuDbZP",
        "outputId": "c8d7d6bc-e627-44e5-ac1c-1213fd3a5b06"
      },
      "outputs": [
        {
          "output_type": "stream",
          "name": "stdout",
          "text": [
            "Formatted date: 04-20-22.\n"
          ]
        }
      ],
      "source": [
        "# format date\n",
        "print(\"Formatted date:\", TODAY.strftime(\"%m-%d-%y.\"))"
      ]
    },
    {
      "cell_type": "code",
      "execution_count": 16,
      "metadata": {
        "colab": {
          "base_uri": "https://localhost:8080/"
        },
        "id": "mvSDME6dDbZQ",
        "outputId": "1d9deea3-e06b-416b-df5b-d552f5036105"
      },
      "outputs": [
        {
          "output_type": "stream",
          "name": "stdout",
          "text": [
            "Formatted date: 20 Apr 2022 \n"
          ]
        }
      ],
      "source": [
        "# format date\n",
        "print(\"Formatted date:\", TODAY.strftime(\"%d %b %Y \"))"
      ]
    },
    {
      "cell_type": "code",
      "execution_count": 17,
      "metadata": {
        "colab": {
          "base_uri": "https://localhost:8080/"
        },
        "id": "ja5NPmwnDbZQ",
        "outputId": "2a64497b-fd93-4ab7-c223-91d1f3dde9ed"
      },
      "outputs": [
        {
          "output_type": "stream",
          "name": "stdout",
          "text": [
            "Formatted date: Wednesday on the 20 day of April.\n"
          ]
        }
      ],
      "source": [
        "# format date\n",
        "print(\"Formatted date:\", TODAY.strftime(\"%A on the %d day of %B.\"))"
      ]
    },
    {
      "cell_type": "code",
      "execution_count": 19,
      "metadata": {
        "colab": {
          "base_uri": "https://localhost:8080/"
        },
        "id": "TKDTfIkXDbZR",
        "outputId": "43e87ec9-7df6-44b3-e396-b7e4ec520ac6"
      },
      "outputs": [
        {
          "output_type": "stream",
          "name": "stdout",
          "text": [
            "Age in days: 8134\n"
          ]
        }
      ],
      "source": [
        "# dates support calendar arithmetic\n",
        "birthday = date(2000, 1, 12)\n",
        "age = TODAY - birthday\n",
        "\n",
        "print(\"Age in days:\", age.days)"
      ]
    },
    {
      "cell_type": "markdown",
      "metadata": {
        "id": "nbv7qwynDbZU"
      },
      "source": [
        "\n",
        "\n",
        "---"
      ]
    },
    {
      "cell_type": "markdown",
      "metadata": {
        "id": "4JXIHRVqDbZY"
      },
      "source": [
        "---\n",
        "\n",
        "#### `OS`  - OPERATING SYSTEM\n",
        "\n",
        "- The os module provides dozens of functions for interacting with the operating system"
      ]
    },
    {
      "cell_type": "code",
      "execution_count": 20,
      "metadata": {
        "colab": {
          "base_uri": "https://localhost:8080/"
        },
        "id": "1mWJZmZtDbZZ",
        "outputId": "bdf35fc7-a729-468a-8f40-ca49869cc034"
      },
      "outputs": [
        {
          "output_type": "stream",
          "name": "stdout",
          "text": [
            "Get current working directory: /content\n"
          ]
        }
      ],
      "source": [
        "import os\n",
        "\n",
        "# Return the current working directory\n",
        "print(\"Get current working directory:\", os.getcwd())   \n"
      ]
    },
    {
      "cell_type": "code",
      "execution_count": 21,
      "metadata": {
        "colab": {
          "base_uri": "https://localhost:8080/"
        },
        "id": "t_1uV5BvDbZa",
        "outputId": "43756f27-af71-43bf-ec79-5d0b1fb98580"
      },
      "outputs": [
        {
          "output_type": "stream",
          "name": "stdout",
          "text": [
            "Change current directory to sample_data\n"
          ]
        }
      ],
      "source": [
        "# Change current working directory\n",
        "print(\"Change current directory to sample_data\")\n",
        "os.system('mkdir sample_data')\n",
        "os.chdir('sample_data/') \n",
        "\n"
      ]
    },
    {
      "cell_type": "code",
      "execution_count": 22,
      "metadata": {
        "colab": {
          "base_uri": "https://localhost:8080/"
        },
        "id": "9j2hCqY3DbZa",
        "outputId": "9dedf02b-beae-4ff5-ee75-05f0db5cfdf9"
      },
      "outputs": [
        {
          "output_type": "stream",
          "name": "stdout",
          "text": [
            "Make new directory\n"
          ]
        },
        {
          "output_type": "execute_result",
          "data": {
            "text/plain": [
              "0"
            ]
          },
          "metadata": {},
          "execution_count": 22
        }
      ],
      "source": [
        "# Run the command mkdir in the system shell\n",
        "print(\"Make new directory\")\n",
        "os.system('mkdir today')"
      ]
    },
    {
      "cell_type": "code",
      "execution_count": 23,
      "metadata": {
        "colab": {
          "base_uri": "https://localhost:8080/"
        },
        "id": "MlQkL40yDbZb",
        "outputId": "4e5be887-543b-41fe-8c6d-edaeaed418a0"
      },
      "outputs": [
        {
          "output_type": "stream",
          "name": "stdout",
          "text": [
            "Listing existing directories:\n"
          ]
        },
        {
          "output_type": "execute_result",
          "data": {
            "text/plain": [
              "0"
            ]
          },
          "metadata": {},
          "execution_count": 23
        }
      ],
      "source": [
        "# Check if new directory got created\n",
        "print(\"Listing existing directories:\")\n",
        "os.system('ls')"
      ]
    }
  ],
  "metadata": {
    "kernelspec": {
      "display_name": "Python 3",
      "language": "python",
      "name": "python3"
    },
    "language_info": {
      "codemirror_mode": {
        "name": "ipython",
        "version": 3
      },
      "file_extension": ".py",
      "mimetype": "text/x-python",
      "name": "python",
      "nbconvert_exporter": "python",
      "pygments_lexer": "ipython3",
      "version": "3.7.3"
    },
    "colab": {
      "name": "Math - Random - Datetime - OS.ipynb",
      "provenance": [],
      "collapsed_sections": [],
      "include_colab_link": true
    }
  },
  "nbformat": 4,
  "nbformat_minor": 0
}